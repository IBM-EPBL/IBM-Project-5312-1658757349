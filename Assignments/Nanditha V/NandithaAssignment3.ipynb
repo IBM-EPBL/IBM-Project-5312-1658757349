{
  "nbformat": 4,
  "nbformat_minor": 0,
  "metadata": {
    "colab": {
      "provenance": [],
      "collapsed_sections": []
    },
    "kernelspec": {
      "name": "python3",
      "display_name": "Python 3"
    },
    "language_info": {
      "name": "python"
    }
  },
  "cells": [
    {
      "cell_type": "code",
      "execution_count": null,
      "metadata": {
        "id": "9mP20FefTlQt"
      },
      "outputs": [],
      "source": []
    },
    {
      "cell_type": "markdown",
      "source": [
        "Exercises\n",
        "Answer the questions or complete the tasks outlined in bold below, use the specific method described if applicable.\n",
        "\n",
        "What is 7 to the power of 4?\n"
      ],
      "metadata": {
        "id": "MUwH56gjTnZF"
      }
    },
    {
      "cell_type": "code",
      "source": [
        "a=pow(7,4)\n",
        "print(a)"
      ],
      "metadata": {
        "colab": {
          "base_uri": "https://localhost:8080/"
        },
        "id": "64ce7951UC1y",
        "outputId": "65b57778-d507-494c-8c0e-960e294df553"
      },
      "execution_count": 4,
      "outputs": [
        {
          "output_type": "stream",
          "name": "stdout",
          "text": [
            "2401\n"
          ]
        }
      ]
    },
    {
      "cell_type": "markdown",
      "source": [
        "Split this string:"
      ],
      "metadata": {
        "id": "g5EHs8-WUKGC"
      }
    },
    {
      "cell_type": "code",
      "source": [
        "s = \"Hi there Sam!\""
      ],
      "metadata": {
        "id": "QlYpXEQIUN7q"
      },
      "execution_count": null,
      "outputs": []
    },
    {
      "cell_type": "markdown",
      "source": [
        "into a list."
      ],
      "metadata": {
        "id": "a_Gqf77OTv7O"
      }
    },
    {
      "cell_type": "code",
      "source": [
        "a=\"Hi there Sam!\"\n",
        "print(a.split())"
      ],
      "metadata": {
        "colab": {
          "base_uri": "https://localhost:8080/"
        },
        "id": "zXGJcICLUZAa",
        "outputId": "e153afed-4873-467e-87ce-9758847d07b1"
      },
      "execution_count": 5,
      "outputs": [
        {
          "output_type": "stream",
          "name": "stdout",
          "text": [
            "['Hi', 'there', 'Sam!']\n"
          ]
        }
      ]
    },
    {
      "cell_type": "markdown",
      "source": [
        "Given the variables:"
      ],
      "metadata": {
        "id": "0X90yCgkUhU1"
      }
    },
    {
      "cell_type": "code",
      "source": [
        "planet = \"Earth\"\n",
        "diameter = 12742\n"
      ],
      "metadata": {
        "id": "h3IV_BwEUicz"
      },
      "execution_count": null,
      "outputs": []
    },
    {
      "cell_type": "markdown",
      "source": [
        "Use .format() to print the following string:\n",
        "\n",
        "The diameter of Earth is 12742 kilometers."
      ],
      "metadata": {
        "id": "oNV399tiU7WE"
      }
    },
    {
      "cell_type": "code",
      "source": [
        "diameter = 12742\n",
        "print(\"The diameter of Earth is {} kilometers\".format(diameter))"
      ],
      "metadata": {
        "colab": {
          "base_uri": "https://localhost:8080/"
        },
        "id": "kFLc9r_oU_3Q",
        "outputId": "ceec7278-94c3-42e3-8305-a75ee3f8a285"
      },
      "execution_count": 6,
      "outputs": [
        {
          "output_type": "stream",
          "name": "stdout",
          "text": [
            "The diameter of Earth is 12742 kilometers\n"
          ]
        }
      ]
    },
    {
      "cell_type": "markdown",
      "source": [
        "Given this nested list, use indexing to grab the word \"hello\""
      ],
      "metadata": {
        "id": "RLbX_WhvVRRA"
      }
    },
    {
      "cell_type": "code",
      "source": [
        "lst = [1,2,[3,4],[5,[100,200,['hello']],23,11],1,7]\n",
        "a=lst[3]\n",
        "b=a[1]\n",
        "print(b[2])"
      ],
      "metadata": {
        "colab": {
          "base_uri": "https://localhost:8080/"
        },
        "id": "v0wswi9sVTun",
        "outputId": "759a17c3-e3bc-4a2d-cdff-5c1326759767"
      },
      "execution_count": 7,
      "outputs": [
        {
          "output_type": "stream",
          "name": "stdout",
          "text": [
            "['hello']\n"
          ]
        }
      ]
    },
    {
      "cell_type": "markdown",
      "source": [
        "Given this nest dictionary grab the word \"hello\". Be prepared, this will be annoying/tricky"
      ],
      "metadata": {
        "id": "S6TB9ifpVfyA"
      }
    },
    {
      "cell_type": "code",
      "source": [
        "d = {'k1':[1,2,3,{'tricky':['oh','man','inception',{'target':[1,2,3,'hello']}]}]}\n",
        "b=d[\"k1\"]\n",
        "d=b[3]\n",
        "e=d[\"tricky\"]\n",
        "f=e[3]\n",
        "g=f[\"target\"]\n",
        "print(g[3])"
      ],
      "metadata": {
        "colab": {
          "base_uri": "https://localhost:8080/"
        },
        "id": "HLtaD1w6Vhfy",
        "outputId": "a8bae029-22fe-4841-a4b4-e0e0d298120d"
      },
      "execution_count": 9,
      "outputs": [
        {
          "output_type": "stream",
          "name": "stdout",
          "text": [
            "hello\n"
          ]
        }
      ]
    },
    {
      "cell_type": "markdown",
      "source": [
        "What is the main difference between a tuple and a list?\n",
        "\n",
        "#One of the most important differences between a list and tuple is that LIST IS MUTABLE,WHEREAS AS TUPLE IS IMMUTABLE.\n",
        "Create a function that grabs the email website domain from a string in the form:\n",
        "\n",
        "user@domain.com\n",
        "\n",
        "So for example, passing \"user@domain.com\" would return: domain.com"
      ],
      "metadata": {
        "id": "qPkCpc3qV4F4"
      }
    },
    {
      "cell_type": "code",
      "source": [
        "def domainGet(email):\n",
        "    print(\"Your domain is: \" + email.split('@')[-1])\n",
        "\n",
        "email = input(\"Please enter your email: >\")\n",
        "domainGet(email)"
      ],
      "metadata": {
        "colab": {
          "base_uri": "https://localhost:8080/"
        },
        "id": "wKd-Sb1KWE5U",
        "outputId": "cf060488-8f41-4003-f576-44fd0aa41925"
      },
      "execution_count": 11,
      "outputs": [
        {
          "output_type": "stream",
          "name": "stdout",
          "text": [
            "Please enter your email: >nandygr2@gmail.com\n",
            "Your domain is: gmail.com\n"
          ]
        }
      ]
    },
    {
      "cell_type": "markdown",
      "source": [
        "\n",
        "Create a basic function that returns True if the word 'dog' is contained in the input string. Don't worry about edge cases like a punctuation being attached to the word dog, but do account for capitalization.\n"
      ],
      "metadata": {
        "id": "9H9xEfQrXCBZ"
      }
    },
    {
      "cell_type": "code",
      "source": [
        "def hai():\n",
        "    a=input(\"Enter the string\")\n",
        "    if \"dog\" in a:\n",
        "        print(\"True\")\n",
        "hai()\n"
      ],
      "metadata": {
        "colab": {
          "base_uri": "https://localhost:8080/"
        },
        "id": "r8u4ZhZbXJ8B",
        "outputId": "21e487f4-e317-4dc0-e3d3-bad6d8e75ac9"
      },
      "execution_count": 14,
      "outputs": [
        {
          "output_type": "stream",
          "name": "stdout",
          "text": [
            "Enter the stringdog i miss you\n",
            "True\n"
          ]
        }
      ]
    },
    {
      "cell_type": "markdown",
      "source": [
        "Create a function that counts the number of times the word \"dog\" occurs in a string. Again ignore edge cases."
      ],
      "metadata": {
        "id": "mmcKdFndXav0"
      }
    },
    {
      "cell_type": "code",
      "source": [
        "a = \"dog i miss you dog\"\n",
        "print(a.count('dog'))"
      ],
      "metadata": {
        "colab": {
          "base_uri": "https://localhost:8080/"
        },
        "id": "NmXc-llzXcwy",
        "outputId": "c5e203a8-5ebf-4d65-9fc4-146d9f311441"
      },
      "execution_count": 15,
      "outputs": [
        {
          "output_type": "stream",
          "name": "stdout",
          "text": [
            "2\n"
          ]
        }
      ]
    },
    {
      "cell_type": "markdown",
      "source": [
        "Problem\n",
        "You are driving a little too fast, and a police officer stops you. Write a function to return one of 3 possible results: \"No ticket\", \"Small ticket\", or \"Big "
      ],
      "metadata": {
        "id": "u7BJ71r-Xlng"
      }
    },
    {
      "cell_type": "code",
      "source": [
        "def caught_speeding(speed, is_birthday):\n",
        "    \n",
        "    if is_birthday:\n",
        "        speeding = speed - 5\n",
        "    else:\n",
        "        speeding = speed\n",
        "    \n",
        "    if speeding > 80:\n",
        "        return 'Big Ticket'\n",
        "    elif speeding > 60:\n",
        "        return 'Small Ticket'\n",
        "    else:\n",
        "        return 'No Ticket'\n",
        "a=\"is_birthday\"\n",
        "caught_speeding(90,a)\n",
        "'Big Ticket'\n",
        "a=\"is_birthday\"\n",
        "caught_speeding(70,a)"
      ],
      "metadata": {
        "id": "sHjqoTBTXm2v"
      },
      "execution_count": null,
      "outputs": []
    },
    {
      "cell_type": "markdown",
      "source": [
        "Create an employee list with basic salary values(at least 5 values for 5 employees) and using a for loop retreive each employee salary and calculate total salary expenditure.\n"
      ],
      "metadata": {
        "id": "kKKh1jPJX0T-"
      }
    },
    {
      "cell_type": "code",
      "source": [
        "a=[\"raju\",\"harish\",\"punitha\",\"harini\",\"hussain\"]\n",
        "for i in a:\n",
        "    salary=int(input(\"enter the salary\"))\n",
        "    a=[]\n",
        "    a.append(salary)"
      ],
      "metadata": {
        "id": "QRNs5FEFYQXi"
      },
      "execution_count": null,
      "outputs": []
    },
    {
      "cell_type": "markdown",
      "source": [
        "Create two dictionaries in Python:\n",
        "\n",
        "First one to contain fields as Empid, Empname, Basicpay\n",
        "\n",
        "Second dictionary to contain fields as DeptName, DeptId.\n",
        "\n",
        "Combine both dictionaries."
      ],
      "metadata": {
        "id": "foQVb9o4YAPP"
      }
    },
    {
      "cell_type": "code",
      "source": [
        "a=[\"Empid\",\"Empname\",\"Basicpay\"]\n",
        "\n",
        "b=[\"121\",\"Harish\",\"100000\"]\n",
        "c=dict(zip(a,b))\n",
        "print(c)\n"
      ],
      "metadata": {
        "colab": {
          "base_uri": "https://localhost:8080/"
        },
        "id": "j0R9m-iuYCTS",
        "outputId": "81b86af4-0f01-4a1d-8c48-72471a047524"
      },
      "execution_count": 17,
      "outputs": [
        {
          "output_type": "stream",
          "name": "stdout",
          "text": [
            "{'Empid': '121', 'Empname': 'Harish', 'Basicpay': '100000'}\n"
          ]
        }
      ]
    }
  ]
}