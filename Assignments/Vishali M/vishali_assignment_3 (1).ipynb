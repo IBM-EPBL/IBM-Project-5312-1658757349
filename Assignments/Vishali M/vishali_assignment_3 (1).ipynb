{
  "nbformat": 4,
  "nbformat_minor": 0,
  "metadata": {
    "colab": {
      "provenance": [],
      "collapsed_sections": []
    },
    "kernelspec": {
      "name": "python3",
      "display_name": "Python 3"
    },
    "language_info": {
      "name": "python"
    }
  },
  "cells": [
    {
      "cell_type": "code",
      "execution_count": null,
      "metadata": {
        "id": "bCmUcURIToLG"
      },
      "outputs": [],
      "source": []
    },
    {
      "cell_type": "markdown",
      "source": [
        "\n",
        "Exercises Answer the questions or complete the tasks outlined in bold below, use the specific method described if applicable.\n",
        "What is 7 to the power of 4?"
      ],
      "metadata": {
        "id": "kl03fZBsUgnI"
      }
    },
    {
      "cell_type": "code",
      "source": [
        "a=pow(7,4)\n",
        "print(a)"
      ],
      "metadata": {
        "colab": {
          "base_uri": "https://localhost:8080/"
        },
        "id": "RCzEcr6dUuwt",
        "outputId": "32b9c1ce-e25f-4151-ab54-738468e988c2"
      },
      "execution_count": 1,
      "outputs": [
        {
          "output_type": "stream",
          "name": "stdout",
          "text": [
            "2401\n"
          ]
        }
      ]
    },
    {
      "cell_type": "markdown",
      "source": [
        "Split this string:"
      ],
      "metadata": {
        "id": "65e4htCJVWPA"
      }
    },
    {
      "cell_type": "code",
      "source": [
        "s = \"Hi there Sam!\""
      ],
      "metadata": {
        "id": "cedrGVWtVblt"
      },
      "execution_count": 2,
      "outputs": []
    },
    {
      "cell_type": "code",
      "source": [],
      "metadata": {
        "id": "5kJHyrx-VnJo"
      },
      "execution_count": null,
      "outputs": []
    },
    {
      "cell_type": "markdown",
      "source": [
        "into a list."
      ],
      "metadata": {
        "id": "6_iK0RQvVnhz"
      }
    },
    {
      "cell_type": "code",
      "source": [],
      "metadata": {
        "id": "63N9UGlrVszK"
      },
      "execution_count": null,
      "outputs": []
    },
    {
      "cell_type": "code",
      "source": [
        "a=\"Hi there Sam!\"\n",
        "print(a.split())"
      ],
      "metadata": {
        "colab": {
          "base_uri": "https://localhost:8080/"
        },
        "id": "sy5CXru-V1bs",
        "outputId": "07052720-9621-432c-b9d0-1e27a8a4961d"
      },
      "execution_count": 3,
      "outputs": [
        {
          "output_type": "stream",
          "name": "stdout",
          "text": [
            "['Hi', 'there', 'Sam!']\n"
          ]
        }
      ]
    },
    {
      "cell_type": "markdown",
      "source": [
        "Given the variables:"
      ],
      "metadata": {
        "id": "rer0oYQSV91W"
      }
    },
    {
      "cell_type": "code",
      "source": [
        "planet = \"Earth\"\n",
        "diameter = 12742"
      ],
      "metadata": {
        "id": "OHk1ZdO3WDMW"
      },
      "execution_count": 4,
      "outputs": []
    },
    {
      "cell_type": "markdown",
      "source": [
        "Use .format() to print the following string:\n",
        "\n",
        "The diameter of Earth is 12742 kilometers."
      ],
      "metadata": {
        "id": "FMkoz1sXWMkP"
      }
    },
    {
      "cell_type": "code",
      "source": [
        "diameter = 12742\n",
        "print(\"The diameter of Earth is {} kilometers\".format(diameter))"
      ],
      "metadata": {
        "colab": {
          "base_uri": "https://localhost:8080/"
        },
        "id": "vl-uPoYrWSRF",
        "outputId": "ab977067-1f4f-479d-eb05-be0abd772c42"
      },
      "execution_count": 5,
      "outputs": [
        {
          "output_type": "stream",
          "name": "stdout",
          "text": [
            "The diameter of Earth is 12742 kilometers\n"
          ]
        }
      ]
    },
    {
      "cell_type": "markdown",
      "source": [
        "The diameter of Earth is 12742 kilometers\n",
        "Given this nested list, use indexing to grab the word \"hello\""
      ],
      "metadata": {
        "id": "4iMr6SYMWX0Z"
      }
    },
    {
      "cell_type": "code",
      "source": [
        "\n",
        "\n"
      ],
      "metadata": {
        "id": "QtABtSnLWikI"
      },
      "execution_count": null,
      "outputs": []
    },
    {
      "cell_type": "code",
      "source": [
        "lst = [1,2,[3,4],[5,[100,200,['hello']],23,11],1,7]\n",
        "a=lst[3]\n",
        "b=a[1]\n",
        "print(b[2])"
      ],
      "metadata": {
        "colab": {
          "base_uri": "https://localhost:8080/"
        },
        "id": "IPnANbgNWpDo",
        "outputId": "69457cb7-3d62-472a-a4f7-9a0de3462527"
      },
      "execution_count": 6,
      "outputs": [
        {
          "output_type": "stream",
          "name": "stdout",
          "text": [
            "['hello']\n"
          ]
        }
      ]
    },
    {
      "cell_type": "markdown",
      "source": [
        "Given this nest dictionary grab the word \"hello\". Be prepared, this will be annoying/tricky"
      ],
      "metadata": {
        "id": "YMZE4Q8GW5XH"
      }
    },
    {
      "cell_type": "code",
      "source": [
        "d = {'k1':[1,2,3,{'tricky':['oh','man','inception',{'target':[1,2,3,'hello']}]}]}\n",
        "b=d[\"k1\"]\n",
        "d=b[3]\n",
        "e=d[\"tricky\"]\n",
        "f=e[3]\n",
        "g=f[\"target\"]\n",
        "print(g[3])"
      ],
      "metadata": {
        "colab": {
          "base_uri": "https://localhost:8080/"
        },
        "id": "X_lNMHNrW-dt",
        "outputId": "c629fe68-1849-4ebb-e837-25b611b68ff5"
      },
      "execution_count": 7,
      "outputs": [
        {
          "output_type": "stream",
          "name": "stdout",
          "text": [
            "hello\n"
          ]
        }
      ]
    },
    {
      "cell_type": "code",
      "source": [],
      "metadata": {
        "id": "CGDjBlseXF8D"
      },
      "execution_count": null,
      "outputs": []
    },
    {
      "cell_type": "markdown",
      "source": [
        "What is the main difference between a tuple and a list?"
      ],
      "metadata": {
        "id": "JJ3r6WsWXGQh"
      }
    },
    {
      "cell_type": "markdown",
      "source": [
        "One of the most important differences between a list and tuple is that LIST IS MUTABLE,WHEREAS AS TUPLE IS IMMUTABLE."
      ],
      "metadata": {
        "id": "Awf7uKoAXOtW"
      }
    },
    {
      "cell_type": "markdown",
      "source": [
        "Create a function that grabs the email website domain from a string in the form:\n",
        "\n",
        "user@domain.com\n",
        "\n",
        "So for example, passing \"user@domain.com\" would return: domain.com"
      ],
      "metadata": {
        "id": "e_KGGgGHXgjp"
      }
    },
    {
      "cell_type": "code",
      "source": [
        "\n"
      ],
      "metadata": {
        "id": "Wu5TLn0eXlxi"
      },
      "execution_count": null,
      "outputs": []
    },
    {
      "cell_type": "code",
      "source": [
        "\n",
        "def domainGet(email):\n",
        "    print(\"Your domain is: \" + email.split('@')[-1])\n",
        "\n",
        "email = input(\"Please enter your email: >\")\n",
        "domainGet(email)"
      ],
      "metadata": {
        "id": "-pQ14ie8XoCH"
      },
      "execution_count": null,
      "outputs": []
    },
    {
      "cell_type": "markdown",
      "source": [],
      "metadata": {
        "id": "lTAIJ5vHbSmk"
      }
    },
    {
      "cell_type": "markdown",
      "source": [],
      "metadata": {
        "id": "HynXlChbbU_8"
      }
    },
    {
      "cell_type": "markdown",
      "source": [
        "Problem You are driving a little too fast, and a police officer stops you. Write a function to return one of 3 possible results: \"No ticket\", \"Small ticket\", or \"Big"
      ],
      "metadata": {
        "id": "A14pXEQrbXoG"
      }
    },
    {
      "cell_type": "code",
      "source": [
        "def caught_speeding(speed, is_birthday):\n",
        "    \n",
        "    if is_birthday:\n",
        "        speeding = speed - 5\n",
        "    else:\n",
        "        speeding = speed\n",
        "    \n",
        "    if speeding > 80:\n",
        "        return 'Big Ticket'\n",
        "    elif speeding > 60:\n",
        "        return 'Small Ticket'\n",
        "    else:\n",
        "        return 'No Ticket'\n",
        "a=\"is_birthday\"\n",
        "caught_speeding(90,a)\n",
        "'Big Ticket'\n",
        "a=\"is_birthday\"\n",
        "caught_speeding(70,a)"
      ],
      "metadata": {
        "id": "ozgTGVeYbZiQ"
      },
      "execution_count": null,
      "outputs": []
    },
    {
      "cell_type": "markdown",
      "source": [
        "Create an employee list with basic salary values(at least 5 values for 5 employees) and using a for loop retreive each employee salary and calculate total salary expenditure."
      ],
      "metadata": {
        "id": "11krNVbwbsle"
      }
    },
    {
      "cell_type": "markdown",
      "source": [],
      "metadata": {
        "id": "9COaLa8BbycO"
      }
    },
    {
      "cell_type": "code",
      "source": [
        "a=[\"raju\",\"harish\",\"punitha\",\"harini\",\"hussain\"]\n",
        "for i in a:\n",
        "    salary=int(input(\"enter the salary\"))\n",
        "    a=[]\n",
        "    a.append(salary)"
      ],
      "metadata": {
        "id": "WQQWN3WFb0H3"
      },
      "execution_count": null,
      "outputs": []
    },
    {
      "cell_type": "markdown",
      "source": [
        "Create two dictionaries in Python:\n",
        "\n",
        "First one to contain fields as Empid, Empname, Basicpay\n",
        "\n",
        "Second dictionary to contain fields as DeptName, DeptId.\n",
        "\n",
        "Combine both dictionaries."
      ],
      "metadata": {
        "id": "TxWFVvRJb5qP"
      }
    },
    {
      "cell_type": "code",
      "source": [
        "a=[\"Empid\",\"Empname\",\"Basicpay\"]\n",
        "\n",
        "b=[\"121\",\"Harish\",\"100000\"]\n",
        "c=dict(zip(a,b))\n",
        "print(c)"
      ],
      "metadata": {
        "id": "RSbglhxib-nw"
      },
      "execution_count": null,
      "outputs": []
    },
    {
      "cell_type": "markdown",
      "source": [],
      "metadata": {
        "id": "PV6P3C8qbqlV"
      }
    },
    {
      "cell_type": "markdown",
      "source": [],
      "metadata": {
        "id": "fSjYjmz_YhvD"
      }
    },
    {
      "cell_type": "markdown",
      "source": [
        "Create a basic function that returns True if the word 'dog' is contained in the input string. Don't worry about edge cases like a punctuation being attached to the word dog, but do account for capitalization."
      ],
      "metadata": {
        "id": "oH73cShxYrZX"
      }
    },
    {
      "cell_type": "code",
      "source": [
        "def hai():\n",
        "    a=input(\"Enter the string\")\n",
        "    if \"dog\" in a:\n",
        "        print(\"True\")\n",
        "hai()"
      ],
      "metadata": {
        "id": "So2uxCOVY1Nc"
      },
      "execution_count": null,
      "outputs": []
    },
    {
      "cell_type": "markdown",
      "source": [
        "Enter the stringdog i miss you\n",
        "True"
      ],
      "metadata": {
        "id": "xEUNlc68Zc2T"
      }
    },
    {
      "cell_type": "markdown",
      "source": [
        "Create a function that counts the number of times the word \"dog\" occurs in a string. Again ignore edge cases."
      ],
      "metadata": {
        "id": "9TyUmTMkZoAt"
      }
    },
    {
      "cell_type": "code",
      "source": [
        "a = \"dog i miss you dog\"\n",
        "print(a.count('dog'))"
      ],
      "metadata": {
        "id": "SOtJC4EFZtvS"
      },
      "execution_count": null,
      "outputs": []
    }
  ]
}