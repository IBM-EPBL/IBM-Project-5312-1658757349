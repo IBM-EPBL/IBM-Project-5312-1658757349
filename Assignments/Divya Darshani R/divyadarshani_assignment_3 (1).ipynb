{
  "nbformat": 4,
  "nbformat_minor": 0,
  "metadata": {
    "colab": {
      "provenance": []
    },
    "kernelspec": {
      "name": "python3",
      "display_name": "Python 3"
    },
    "language_info": {
      "name": "python"
    }
  },
  "cells": [
    {
      "cell_type": "code",
      "execution_count": null,
      "metadata": {
        "id": "jX6fWdKBoXA_"
      },
      "outputs": [],
      "source": []
    },
    {
      "cell_type": "markdown",
      "source": [
        "Exercises Answer the questions or complete the tasks outlined in bold below, use the specific method described if applicable.\n",
        "\n",
        "What is 7 to the power of 4?"
      ],
      "metadata": {
        "id": "pnBtHTs3olUX"
      }
    },
    {
      "cell_type": "code",
      "source": [
        "a=pow(7,4)\n",
        "print(a)"
      ],
      "metadata": {
        "colab": {
          "base_uri": "https://localhost:8080/"
        },
        "id": "BEY1tmPbovnc",
        "outputId": "45291301-854e-470e-961e-ce5ef211abb7"
      },
      "execution_count": 1,
      "outputs": [
        {
          "output_type": "stream",
          "name": "stdout",
          "text": [
            "2401\n"
          ]
        }
      ]
    },
    {
      "cell_type": "markdown",
      "source": [
        "Split this string:"
      ],
      "metadata": {
        "id": "kEsImgpco8m7"
      }
    },
    {
      "cell_type": "markdown",
      "source": [],
      "metadata": {
        "id": "x2UA76BDo_q2"
      }
    },
    {
      "cell_type": "code",
      "source": [
        "s = \"Hi there Sam!\""
      ],
      "metadata": {
        "id": "a2jnZ-nspAKl"
      },
      "execution_count": 2,
      "outputs": []
    },
    {
      "cell_type": "markdown",
      "source": [
        "into a list."
      ],
      "metadata": {
        "id": "GQvfj-xHpEzL"
      }
    },
    {
      "cell_type": "code",
      "source": [
        "a=\"Hi there Sam!\"\n",
        "print(a.split())"
      ],
      "metadata": {
        "colab": {
          "base_uri": "https://localhost:8080/"
        },
        "id": "BU_S2xslpIzB",
        "outputId": "e7428474-c81a-4369-c975-6244d646cc57"
      },
      "execution_count": 3,
      "outputs": [
        {
          "output_type": "stream",
          "name": "stdout",
          "text": [
            "['Hi', 'there', 'Sam!']\n"
          ]
        }
      ]
    },
    {
      "cell_type": "markdown",
      "source": [
        "Given the variables:"
      ],
      "metadata": {
        "id": "XseVHV9ApQaA"
      }
    },
    {
      "cell_type": "code",
      "source": [
        "planet = \"Earth\"\n",
        "diameter = 12742"
      ],
      "metadata": {
        "id": "Piz7Cpf_pUMW"
      },
      "execution_count": 4,
      "outputs": []
    },
    {
      "cell_type": "markdown",
      "source": [
        "Use .format() to print the following string:\n",
        "\n",
        "The diameter of Earth is 12742 kilometers."
      ],
      "metadata": {
        "id": "S0t9ERjypl93"
      }
    },
    {
      "cell_type": "code",
      "source": [
        "diameter = 12742\n",
        "print(\"The diameter of Earth is {} kilometers\".format(diameter))"
      ],
      "metadata": {
        "colab": {
          "base_uri": "https://localhost:8080/"
        },
        "id": "38P5usIlpsww",
        "outputId": "76b61dd8-a745-44c2-c220-b419237a0b6f"
      },
      "execution_count": 5,
      "outputs": [
        {
          "output_type": "stream",
          "name": "stdout",
          "text": [
            "The diameter of Earth is 12742 kilometers\n"
          ]
        }
      ]
    },
    {
      "cell_type": "markdown",
      "source": [
        "Given this nested list, use indexing to grab the word \"hello\""
      ],
      "metadata": {
        "id": "0PEmHK-zpz8E"
      }
    },
    {
      "cell_type": "code",
      "source": [
        "d = {'k1':[1,2,3,{'tricky':['oh','man','inception',{'target':[1,2,3,'hello']}]}]}\n",
        "b=d[\"k1\"]\n",
        "d=b[3]\n",
        "e=d[\"tricky\"]\n",
        "f=e[3]\n",
        "g=f[\"target\"]\n",
        "print(g[3])"
      ],
      "metadata": {
        "colab": {
          "base_uri": "https://localhost:8080/"
        },
        "id": "3lVH2RMEp6J7",
        "outputId": "0de204d6-f932-4cf8-f804-0aca87ccaebd"
      },
      "execution_count": 6,
      "outputs": [
        {
          "output_type": "stream",
          "name": "stdout",
          "text": [
            "hello\n"
          ]
        }
      ]
    },
    {
      "cell_type": "markdown",
      "source": [
        "What is the main difference between a tuple and a list?"
      ],
      "metadata": {
        "id": "bJzjovZUqABJ"
      }
    },
    {
      "cell_type": "markdown",
      "source": [
        "One of the most important differences between a list and tuple is that LIST IS MUTABLE,WHEREAS AS TUPLE IS IMMUTABLE.\n",
        "Create a function that grabs the email website domain from a string in the form:"
      ],
      "metadata": {
        "id": "v1Gr8ZWzqGQz"
      }
    },
    {
      "cell_type": "markdown",
      "source": [
        "user@domain.com\n",
        "\n",
        "So for example, passing \"user@domain.com\" would return: domain.com"
      ],
      "metadata": {
        "id": "2-oY6esoqL4I"
      }
    },
    {
      "cell_type": "code",
      "source": [
        "def domainGet(email):\n",
        "    print(\"Your domain is: \" + email.split('@')[-1])\n",
        "\n",
        "email = input(\"Please enter your email: >\")\n",
        "domainGet(email)"
      ],
      "metadata": {
        "id": "Yo8ipQUBqPHP"
      },
      "execution_count": null,
      "outputs": []
    },
    {
      "cell_type": "markdown",
      "source": [
        "Create a basic function that returns True if the word 'dog' is contained in the input string. Don't worry about edge cases like a punctuation being attached to the word dog, but do account for capitalization."
      ],
      "metadata": {
        "id": "TMvjcC8SqXOC"
      }
    },
    {
      "cell_type": "code",
      "source": [
        "def hai():\n",
        "    a=input(\"Enter the string\")\n",
        "    if \"dog\" in a:\n",
        "        print(\"True\")\n",
        "hai()"
      ],
      "metadata": {
        "id": "ujlsIwCtqamM"
      },
      "execution_count": null,
      "outputs": []
    },
    {
      "cell_type": "markdown",
      "source": [
        "Enter the stringdog i miss you\n",
        "True\n",
        "Create a function that counts the number of times the word \"dog\" occurs in a string. Again ignore edge cases."
      ],
      "metadata": {
        "id": "ekqLfjYKqgAL"
      }
    },
    {
      "cell_type": "code",
      "source": [
        "a = \"dog i miss you dog\"\n",
        "print(a.count('dog'))"
      ],
      "metadata": {
        "id": "6CG-vqASqlRh"
      },
      "execution_count": null,
      "outputs": []
    },
    {
      "cell_type": "markdown",
      "source": [
        "Problem You are driving a little too fast, and a police officer stops you. Write a function to return one of 3 possible results: \"No ticket\", \"Small ticket\", or \"Big"
      ],
      "metadata": {
        "id": "yP6veulmqw3M"
      }
    },
    {
      "cell_type": "code",
      "source": [
        "def caught_speeding(speed, is_birthday):\n",
        "    \n",
        "    if is_birthday:\n",
        "        speeding = speed - 5\n",
        "    else:\n",
        "        speeding = speed\n",
        "    \n",
        "    if speeding > 80:\n",
        "        return 'Big Ticket'\n",
        "    elif speeding > 60:\n",
        "        return 'Small Ticket'\n",
        "    else:\n",
        "        return 'No Ticket'\n",
        "a=\"is_birthday\"\n",
        "caught_speeding(90,a)\n",
        "'Big Ticket'\n",
        "a=\"is_birthday\"\n",
        "caught_speeding(70,a)"
      ],
      "metadata": {
        "id": "S8isrQ-8q3ER"
      },
      "execution_count": null,
      "outputs": []
    },
    {
      "cell_type": "markdown",
      "source": [
        "Create an employee list with basic salary values(at least 5 values for 5 employees) and using a for loop retreive each employee salary and calculate total salary expenditure."
      ],
      "metadata": {
        "id": "sR748zOfq9P9"
      }
    },
    {
      "cell_type": "code",
      "source": [
        "a=[\"raju\",\"harish\",\"punitha\",\"harini\",\"hussain\"]\n",
        "for i in a:\n",
        "    salary=int(input(\"enter the salary\"))\n",
        "    a=[]\n",
        "    a.append(salary)"
      ],
      "metadata": {
        "id": "fgAkBbkvrBat"
      },
      "execution_count": null,
      "outputs": []
    },
    {
      "cell_type": "markdown",
      "source": [
        "Create two dictionaries in Python:\n",
        "\n",
        "First one to contain fields as Empid, Empname, Basicpay\n",
        "\n",
        "Second dictionary to contain fields as DeptName, DeptId.\n",
        "\n",
        "Combine both dictionaries."
      ],
      "metadata": {
        "id": "GlkO_J--rE-x"
      }
    },
    {
      "cell_type": "code",
      "source": [
        "a=[\"Empid\",\"Empname\",\"Basicpay\"]\n",
        "\n",
        "b=[\"121\",\"Harish\",\"100000\"]\n",
        "c=dict(zip(a,b))\n",
        "print(c)"
      ],
      "metadata": {
        "id": "5pbwBM_KrImH"
      },
      "execution_count": null,
      "outputs": []
    }
  ]
}