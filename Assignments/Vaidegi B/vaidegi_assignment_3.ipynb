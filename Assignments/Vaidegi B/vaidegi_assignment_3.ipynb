{
  "nbformat": 4,
  "nbformat_minor": 0,
  "metadata": {
    "colab": {
      "provenance": []
    },
    "kernelspec": {
      "name": "python3",
      "display_name": "Python 3"
    },
    "language_info": {
      "name": "python"
    }
  },
  "cells": [
    {
      "cell_type": "code",
      "execution_count": null,
      "metadata": {
        "id": "j6T_8f4Uhyno"
      },
      "outputs": [],
      "source": []
    },
    {
      "cell_type": "markdown",
      "source": [
        "Exercises Answer the questions or complete the tasks outlined in bold below, use the specific method described if applicable.\n",
        "\n",
        "What is 7 to the power of 4?"
      ],
      "metadata": {
        "id": "zzmyxMTriUxE"
      }
    },
    {
      "cell_type": "code",
      "source": [
        "a=pow(7,4)\n",
        "print(a)"
      ],
      "metadata": {
        "colab": {
          "base_uri": "https://localhost:8080/"
        },
        "id": "CbCsyUv3ia1p",
        "outputId": "d5c527da-8d85-4f12-d22e-584f5a877489"
      },
      "execution_count": 1,
      "outputs": [
        {
          "output_type": "stream",
          "name": "stdout",
          "text": [
            "2401\n"
          ]
        }
      ]
    },
    {
      "cell_type": "markdown",
      "source": [
        "Split this string:"
      ],
      "metadata": {
        "id": "vuukorUQixgL"
      }
    },
    {
      "cell_type": "code",
      "source": [
        "s = \"Hi there Sam!\""
      ],
      "metadata": {
        "id": "o34Ezghvi1ci"
      },
      "execution_count": 2,
      "outputs": []
    },
    {
      "cell_type": "markdown",
      "source": [
        "into a list."
      ],
      "metadata": {
        "id": "F1Ps26PojAcQ"
      }
    },
    {
      "cell_type": "code",
      "source": [
        "a=\"Hi there Sam!\"\n",
        "print(a.split())"
      ],
      "metadata": {
        "colab": {
          "base_uri": "https://localhost:8080/"
        },
        "id": "DoRW1szIjEPI",
        "outputId": "179ae737-e08f-4492-fe30-4824ddbc1eca"
      },
      "execution_count": 3,
      "outputs": [
        {
          "output_type": "stream",
          "name": "stdout",
          "text": [
            "['Hi', 'there', 'Sam!']\n"
          ]
        }
      ]
    },
    {
      "cell_type": "markdown",
      "source": [
        "Given the variables:"
      ],
      "metadata": {
        "id": "8FTCKwVHjIZQ"
      }
    },
    {
      "cell_type": "code",
      "source": [
        "planet = \"Earth\"\n",
        "diameter = 12742"
      ],
      "metadata": {
        "id": "SWHxR7QNjQ2m"
      },
      "execution_count": 4,
      "outputs": []
    },
    {
      "cell_type": "markdown",
      "source": [
        "Use .format() to print the following string:\n",
        "\n",
        "The diameter of Earth is 12742 kilometers."
      ],
      "metadata": {
        "id": "cIhUHTe0jXfd"
      }
    },
    {
      "cell_type": "code",
      "source": [
        "\n",
        "diameter = 12742\n",
        "print(\"The diameter of Earth is {} kilometers\".format(diameter))"
      ],
      "metadata": {
        "colab": {
          "base_uri": "https://localhost:8080/"
        },
        "id": "hTIEpo0ijb1L",
        "outputId": "f8c21614-004d-486a-87ad-4438fd001cce"
      },
      "execution_count": 5,
      "outputs": [
        {
          "output_type": "stream",
          "name": "stdout",
          "text": [
            "The diameter of Earth is 12742 kilometers\n"
          ]
        }
      ]
    },
    {
      "cell_type": "markdown",
      "source": [
        "Given this nested list, use indexing to grab the word \"hello\""
      ],
      "metadata": {
        "id": "bbPSG_UGjs9P"
      }
    },
    {
      "cell_type": "code",
      "source": [
        "lst = [1,2,[3,4],[5,[100,200,['hello']],23,11],1,7]\n",
        "a=lst[3]\n",
        "b=a[1]\n",
        "print(b[2])"
      ],
      "metadata": {
        "colab": {
          "base_uri": "https://localhost:8080/"
        },
        "id": "0Wz9w-FPjw52",
        "outputId": "06ff7113-e8a3-4676-d37c-95b11bf39cc6"
      },
      "execution_count": 6,
      "outputs": [
        {
          "output_type": "stream",
          "name": "stdout",
          "text": [
            "['hello']\n"
          ]
        }
      ]
    },
    {
      "cell_type": "markdown",
      "source": [
        "Given this nest dictionary grab the word \"hello\". Be prepared, this will be annoying/tricky"
      ],
      "metadata": {
        "id": "tOMk6T3Jj3qT"
      }
    },
    {
      "cell_type": "code",
      "source": [
        "d = {'k1':[1,2,3,{'tricky':['oh','man','inception',{'target':[1,2,3,'hello']}]}]}\n",
        "b=d[\"k1\"]\n",
        "d=b[3]\n",
        "e=d[\"tricky\"]\n",
        "f=e[3]\n",
        "g=f[\"target\"]\n",
        "print(g[3])"
      ],
      "metadata": {
        "colab": {
          "base_uri": "https://localhost:8080/"
        },
        "id": "FOcnpmu1j-Us",
        "outputId": "3cec9570-ddbf-451a-bc35-22c75553f831"
      },
      "execution_count": 7,
      "outputs": [
        {
          "output_type": "stream",
          "name": "stdout",
          "text": [
            "hello\n"
          ]
        }
      ]
    },
    {
      "cell_type": "markdown",
      "source": [
        "What is the main difference between a tuple and a list?"
      ],
      "metadata": {
        "id": "4OALYeJokI_R"
      }
    },
    {
      "cell_type": "markdown",
      "source": [
        "One of the most important differences between a list and tuple is that LIST IS MUTABLE,WHEREAS AS TUPLE IS IMMUTABLE."
      ],
      "metadata": {
        "id": "uPAq7oR9kTNb"
      }
    },
    {
      "cell_type": "markdown",
      "source": [
        "Create a function that grabs the email website domain from a string in the form:\n",
        "\n",
        "user@domain.com\n",
        "\n",
        "So for example, passing \"user@domain.com\" would return: domain.com"
      ],
      "metadata": {
        "id": "mgjHISG4lOFx"
      }
    },
    {
      "cell_type": "code",
      "source": [
        "def domainGet(email):\n",
        "    print(\"Your domain is: \" + email.split('@')[-1])\n",
        "\n",
        "email = input(\"Please enter your email: >\")\n",
        "domainGet(email)"
      ],
      "metadata": {
        "id": "1PSHzVpKlSWK"
      },
      "execution_count": null,
      "outputs": []
    },
    {
      "cell_type": "markdown",
      "source": [
        "Create a basic function that returns True if the word 'dog' is contained in the input string. Don't worry about edge cases like a punctuation being attached to the word dog, but do account for capitalization."
      ],
      "metadata": {
        "id": "ILmiy_sOlkhm"
      }
    },
    {
      "cell_type": "code",
      "source": [
        "def hai():\n",
        "    a=input(\"Enter the string\")\n",
        "    if \"dog\" in a:\n",
        "        print(\"True\")\n",
        "hai()\n"
      ],
      "metadata": {
        "id": "0BkIM9U1luKG"
      },
      "execution_count": null,
      "outputs": []
    },
    {
      "cell_type": "markdown",
      "source": [
        "Enter the stringdog i miss you\n",
        "True"
      ],
      "metadata": {
        "id": "Js-MUxVTl3KL"
      }
    },
    {
      "cell_type": "markdown",
      "source": [
        "Create a function that counts the number of times the word \"dog\" occurs in a string. Again ignore edge cases."
      ],
      "metadata": {
        "id": "8n644qJ_l9Nt"
      }
    },
    {
      "cell_type": "markdown",
      "source": [],
      "metadata": {
        "id": "44gToOLomBBm"
      }
    },
    {
      "cell_type": "code",
      "source": [
        "a = \"dog i miss you dog\"\n",
        "print(a.count('dog'))"
      ],
      "metadata": {
        "id": "QCGWFUfcmCz8"
      },
      "execution_count": null,
      "outputs": []
    },
    {
      "cell_type": "markdown",
      "source": [
        "Problem You are driving a little too fast, and a police officer stops you. Write a function to return one of 3 possible results: \"No ticket\", \"Small ticket\", or \"Big"
      ],
      "metadata": {
        "id": "6ueXSSODmLeu"
      }
    },
    {
      "cell_type": "code",
      "source": [
        "def caught_speeding(speed, is_birthday):\n",
        "    \n",
        "    if is_birthday:\n",
        "        speeding = speed - 5\n",
        "    else:\n",
        "        speeding = speed\n",
        "    \n",
        "    if speeding > 80:\n",
        "        return 'Big Ticket'\n",
        "    elif speeding > 60:\n",
        "        return 'Small Ticket'\n",
        "    else:\n",
        "        return 'No Ticket'\n",
        "a=\"is_birthday\"\n",
        "caught_speeding(90,a)\n",
        "'Big Ticket'\n",
        "a=\"is_birthday\"\n",
        "caught_speeding(70,a)"
      ],
      "metadata": {
        "id": "lbfK_KpbmQfC"
      },
      "execution_count": null,
      "outputs": []
    },
    {
      "cell_type": "markdown",
      "source": [
        "\n",
        "\n",
        "\n",
        "eate an employee list with basic salary values(at least 5 values for 5 employees) and using a for loop retreive each employee salary and calculate total salary expenditure."
      ],
      "metadata": {
        "id": "hORh5dRymYaz"
      }
    },
    {
      "cell_type": "code",
      "source": [
        "a=[\"raju\",\"harish\",\"punitha\",\"harini\",\"hussain\"]\n",
        "for i in a:\n",
        "    salary=int(input(\"enter the salary\"))\n",
        "    a=[]\n",
        "    a.append(salary)"
      ],
      "metadata": {
        "id": "ZzzZxqs_ms9B"
      },
      "execution_count": null,
      "outputs": []
    },
    {
      "cell_type": "markdown",
      "source": [
        "Create two dictionaries in Python:\n",
        "\n",
        "First one to contain fields as Empid, Empname, Basicpay\n",
        "\n",
        "Second dictionary to contain fields as DeptName, DeptId.\n",
        "\n",
        "Combine both dictionaries."
      ],
      "metadata": {
        "id": "NDA4yT7gm-40"
      }
    },
    {
      "cell_type": "code",
      "source": [],
      "metadata": {
        "id": "e9V86RREnDpz"
      },
      "execution_count": null,
      "outputs": []
    },
    {
      "cell_type": "code",
      "source": [
        "a=[\"Empid\",\"Empname\",\"Basicpay\"]\n",
        "\n",
        "b=[\"121\",\"Harish\",\"100000\"]\n",
        "c=dict(zip(a,b))\n",
        "print(c)"
      ],
      "metadata": {
        "id": "J-Jgocm-nFIK"
      },
      "execution_count": null,
      "outputs": []
    }
  ]
}